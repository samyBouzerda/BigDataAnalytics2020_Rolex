{
  "cells": [
    {
      "cell_type": "markdown",
      "source": [
        "# Big Scale Analytics "
      ],
      "metadata": {}
    },
    {
      "cell_type": "markdown",
      "source": [
        "## Group work n°1"
      ],
      "metadata": {}
    },
    {
      "cell_type": "markdown",
      "source": [
        "git: https://github.com/samyBouzerda/BigDataAnalytics2020_Rolex"
      ],
      "metadata": {}
    },
    {
      "cell_type": "markdown",
      "source": [
        "Microsoft Cognitive Services is a suite of services and APIs backed by machine learning that enables developers to incorporate intelligent features such as facial recognition in photos and videos, sentiment analysis in text, and language understanding into their applications. The Microsoft Custom Vision Service is among the newest members of the Cognitive Services suite. Its purpose is to create image classification models that \"learn\" from labeled images you provide. Want to know if a photo contains a picture of a flower? Train the Custom Vision Service with a collection of flower images, and it can tell you whether the next image includes a flower — or even what type of flower it is.\n",
        "Learning objectives\n",
        "In this module, you will:\n",
        "Create a Custom Vision Service project\n",
        "Train a Custom Vision Service model with tagged images\n",
        "Test a Custom Vision Service model\n",
        "Call your custom model's prediction endpoint over HTTP"
      ],
      "metadata": {}
    },
    {
      "cell_type": "markdown",
      "source": [
        "### Image Classification"
      ],
      "metadata": {}
    },
    {
      "cell_type": "markdown",
      "source": [
        "* Description of the service"
      ],
      "metadata": {}
    },
    {
      "cell_type": "markdown",
      "source": [],
      "metadata": {}
    },
    {
      "cell_type": "markdown",
      "source": [
        "* Project creation"
      ],
      "metadata": {}
    },
    {
      "cell_type": "markdown",
      "source": [
        "* Model Set up"
      ],
      "metadata": {}
    },
    {
      "cell_type": "markdown",
      "source": [
        "* Model training and testing"
      ],
      "metadata": {}
    },
    {
      "cell_type": "markdown",
      "source": [
        "* Model prediction call over HTTP"
      ],
      "metadata": {}
    },
    {
      "cell_type": "markdown",
      "source": [
        "* Summary and conclusion"
      ],
      "metadata": {}
    },
    {
      "cell_type": "code",
      "source": [],
      "outputs": [],
      "execution_count": null,
      "metadata": {}
    }
  ],
  "metadata": {
    "kernelspec": {
      "display_name": "Python 3",
      "language": "python",
      "name": "python3"
    },
    "language_info": {
      "codemirror_mode": {
        "name": "ipython",
        "version": 3
      },
      "file_extension": ".py",
      "mimetype": "text/x-python",
      "name": "python",
      "nbconvert_exporter": "python",
      "pygments_lexer": "ipython3",
      "version": "3.7.3"
    },
    "nteract": {
      "version": "0.21.0"
    }
  },
  "nbformat": 4,
  "nbformat_minor": 4
}