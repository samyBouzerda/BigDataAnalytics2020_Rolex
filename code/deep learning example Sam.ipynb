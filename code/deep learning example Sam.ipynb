{
  "cells": [
    {
      "cell_type": "markdown",
      "source": [
        "# Image recognition algorithm"
      ],
      "metadata": {
        "nteract": {
          "transient": {
            "deleting": false
          }
        }
      }
    },
    {
      "cell_type": "markdown",
      "source": [
        "## How it works\n",
        "The image recognition algorithm works as follow: \n",
        "* you load several images and label each one of them (for example: painting, Van Gogh, Picasso, tree, apple, etc.) according to what is represented on the picture; \n",
        "* you then train the algorithm, which is a deep learning algorithm, so it will be able to classify a previously unseen image according to the labels; the algorithm extract key features from each image according to a particular label (e.g., all images labeled with \"painting\" contain a squared-shape object). "
      ],
      "metadata": {
        "nteract": {
          "transient": {
            "deleting": false
          }
        }
      }
    },
    {
      "cell_type": "markdown",
      "source": [
        "Deep learning is an algorithm that relies on an artificial neural network with a connected set of neurons, as seen in the previous course \"Data mining and machine learning\". \n",
        "\n",
        "A neuron is an aggregate function that takes many inputs to create one output. It represents an activating function that decides whether the neuron fires or not. All the parameters of the function are trained to fit the model. \n",
        "\n"
      ],
      "metadata": {
        "nteract": {
          "transient": {
            "deleting": false
          }
        }
      }
    },
    {
      "cell_type": "markdown",
      "source": [
        "Let's look at this simple Python example. All of it comes from the lesson \"Neural Network\" from Michalis Vlachios' **Data mining and machine learning** (MScIS, HEC, UNIL, 2019). "
      ],
      "metadata": {
        "nteract": {
          "transient": {
            "deleting": false
          }
        }
      }
    },
    {
      "cell_type": "markdown",
      "source": [
        "We'll try to predict the number written on a piece of paper. The inputs are the images of handwritten numbers (1, 2, 7, ...), and the outputs are the associated number corresponding to the image. \n",
        "\n",
        "The dataset that we'll use contains rows with a set of input parameters, X, representing 64 numerical values (pixels on the image). The output, y, is a scalar representing the real number. "
      ],
      "metadata": {
        "nteract": {
          "transient": {
            "deleting": false
          }
        }
      }
    },
    {
      "cell_type": "code",
      "source": [
        "# -- Installing some packages --\n",
        "!pip install --upgrade tensorflow\n",
        "!pip install keras\n",
        "\n",
        "%matplotlib inline\n",
        "import numpy as np\n",
        "import matplotlib.pyplot as plt\n",
        "plt.rcParams['figure.figsize'] = (5,5) # Make the figures a bit bigger\n",
        "from sklearn.datasets import load_digits\n",
        "from keras.utils import np_utils\n",
        "\n",
        "# -- Load training data --\n",
        "np.random.seed(1125)\n",
        "nb_classes = 10\n",
        "\n",
        "# -- The data, shuffled and split between tran and test sets --\n",
        "digits = load_digits()\n",
        "X = digits.data #it's a vector of 64 values (pixels), with zero being a black dot and higher values mean brighter dots\n",
        "y = digits.target #it's a vector of dimension 1x1 representing the value (number) of the vector X --> y[1] = 1\n",
        "#plt.imshow(X[7].reshape((8,8)), plt.get_cmap('Greys_r'), interpolation='nearest')\n",
        "#plt.show()\n",
        "#plt.imshow(X[1].reshape((8,8)), plt.get_cmap('Greys_r'), interpolation='nearest')\n",
        "\n",
        "# -- Train/test split --\n",
        "from sklearn.model_selection import train_test_split\n",
        "X_train, X_test, Y_train, Y_test = train_test_split(X, y, test_size=0.2)\n",
        "#convert target labels to one-hot vectors, this is required if we want to use categorical cross-entropy\n",
        "Y_train = np_utils.to_categorical(Y_train, nb_classes) \n",
        "Y_test = np_utils.to_categorical(Y_test, nb_classes) \n",
        "\n",
        "# -- Building a simple neural network with Keras --\n",
        "from keras.models import Sequential\n",
        "from keras.layers.core import Dense, Dropout, Activation\n",
        "from keras import optimizers\n",
        "np.random.seed(1125)\n",
        "\n",
        "# -- Build the neural network --\n",
        "model = Sequential()\n",
        "model.add(Dense(512, input_shape=(64,)))\n",
        "model.add(Activation('relu')) #An \"activation\" is just a non-linear function applied to the output of the layer above. Here, with a \"rectified linear unit\", we clamp all values below 0 to 0.\n",
        "                           \n",
        "model.add(Dropout(0.2)) #Dropout helps protect the model from memorizing or \"overfitting\" the training data\n",
        "model.add(Dense(10))\n",
        "model.add(Activation('softmax')) #This special \"softmax\" activation among other things, ensures that the output is a valid probability distribution, so that its values are all non-negative and sum to 1. \n",
        "\n",
        "# -- Compile the model --\n",
        "optimizer = optimizers.SGD(lr=0.01, decay=1e-6, momentum=0.9, nesterov=True)\n",
        "model.compile(loss='categorical_crossentropy', optimizer=optimizer, metrics=['accuracy'])\n",
        "#model.summary() #It shows a summary of the architecture of the neural network\n",
        "\n",
        "# -- Train the model --\n",
        "model_hist = model.fit(X_train, Y_train, batch_size=64, epochs=20, verbose=1, validation_split=0.2)\n",
        "\n",
        "# -- Evaluate its performance --\n",
        "'''plt.figure(figsize=(7,7))\n",
        "plt.plot(model_hist.history['val_accuracy']) # or model_hist.history['val_acc'] depending on tf version\n",
        "plt.xlabel(\"#Epochs\")\n",
        "plt.ylabel(\"Validation Accuracy\")\n",
        "plt.title(\"validation accuracy in different epochs\")\n",
        "plt.show()'''\n",
        "\n",
        "# -- Performance of the model on the unseen test set --\n",
        "score = model.evaluate(X_test, Y_test, verbose=0)\n",
        "#print('Test loss:', score[0])\n",
        "#print('Test accuracy:', score[1])\n",
        "\n",
        "# -- Inspecting the output --\n",
        "# This outputs the highest probability class according to the trained classifier for each input example \n",
        "predicted_classes = model.predict_classes(X_test)\n",
        "\n",
        "# Check which items we got right / wrong\n",
        "actual_classes = np.where(Y_test==1)[1]\n",
        "\n",
        "correct_indices = np.nonzero(predicted_classes == actual_classes)[0]\n",
        "incorrect_indices = np.nonzero(predicted_classes != actual_classes)[0]\n",
        "\n",
        "# Plot it\n",
        "fig, axes = plt.subplots(3, 3, figsize=(5, 5))\n",
        "for i, ax in enumerate(axes.flatten()):\n",
        "    ax.imshow(X_test[correct_indices[i]].reshape(8,8), cmap='gray', interpolation='none')\n",
        "    ax.set_title(\"Pred: {}, True: {}\".format(predicted_classes[correct_indices[i]], actual_classes[correct_indices[i]]))\n",
        "plt.suptitle('Correct Predictions', y=1.05, size=14)\n",
        "plt.tight_layout()\n",
        "    \n",
        "fig, axes = plt.subplots(2, 3, figsize=(5, 5))\n",
        "for i, ax in enumerate(axes.flatten()):\n",
        "    ax.imshow(X_test[incorrect_indices[i]].reshape(8,8), cmap='gray', interpolation='none')\n",
        "    ax.set_title(\"Pred: {}, True: {}\".format(predicted_classes[incorrect_indices[i]], actual_classes[incorrect_indices[i]]))\n",
        "plt.suptitle('Incorrect Predictions', y=1.05, size=14)\n",
        "plt.tight_layout()"
      ],
      "outputs": [
        {
          "output_type": "stream",
          "name": "stdout",
          "text": [
            "Requirement already up-to-date: tensorflow in /Users/Samuel/anaconda3/lib/python3.7/site-packages (2.1.0)\n",
            "Requirement already satisfied, skipping upgrade: grpcio>=1.8.6 in /Users/Samuel/anaconda3/lib/python3.7/site-packages (from tensorflow) (1.27.2)\n",
            "Requirement already satisfied, skipping upgrade: keras-preprocessing>=1.1.0 in /Users/Samuel/anaconda3/lib/python3.7/site-packages (from tensorflow) (1.1.0)\n",
            "Requirement already satisfied, skipping upgrade: opt-einsum>=2.3.2 in /Users/Samuel/anaconda3/lib/python3.7/site-packages (from tensorflow) (3.2.0)\n",
            "Requirement already satisfied, skipping upgrade: tensorboard<2.2.0,>=2.1.0 in /Users/Samuel/anaconda3/lib/python3.7/site-packages (from tensorflow) (2.1.1)\n",
            "Requirement already satisfied, skipping upgrade: keras-applications>=1.0.8 in /Users/Samuel/anaconda3/lib/python3.7/site-packages (from tensorflow) (1.0.8)\n",
            "Requirement already satisfied, skipping upgrade: absl-py>=0.7.0 in /Users/Samuel/anaconda3/lib/python3.7/site-packages (from tensorflow) (0.9.0)\n",
            "Requirement already satisfied, skipping upgrade: termcolor>=1.1.0 in /Users/Samuel/anaconda3/lib/python3.7/site-packages (from tensorflow) (1.1.0)\n",
            "Requirement already satisfied, skipping upgrade: scipy==1.4.1; python_version >= \"3\" in /Users/Samuel/anaconda3/lib/python3.7/site-packages (from tensorflow) (1.4.1)\n",
            "Requirement already satisfied, skipping upgrade: google-pasta>=0.1.6 in /Users/Samuel/anaconda3/lib/python3.7/site-packages (from tensorflow) (0.1.8)\n",
            "Requirement already satisfied, skipping upgrade: protobuf>=3.8.0 in /Users/Samuel/anaconda3/lib/python3.7/site-packages (from tensorflow) (3.11.3)\n",
            "Requirement already satisfied, skipping upgrade: wheel>=0.26; python_version >= \"3\" in /Users/Samuel/anaconda3/lib/python3.7/site-packages (from tensorflow) (0.33.4)\n",
            "Requirement already satisfied, skipping upgrade: wrapt>=1.11.1 in /Users/Samuel/anaconda3/lib/python3.7/site-packages (from tensorflow) (1.11.2)\n",
            "Requirement already satisfied, skipping upgrade: astor>=0.6.0 in /Users/Samuel/anaconda3/lib/python3.7/site-packages (from tensorflow) (0.8.1)\n",
            "Requirement already satisfied, skipping upgrade: numpy<2.0,>=1.16.0 in /Users/Samuel/anaconda3/lib/python3.7/site-packages (from tensorflow) (1.16.4)\n",
            "Requirement already satisfied, skipping upgrade: gast==0.2.2 in /Users/Samuel/anaconda3/lib/python3.7/site-packages (from tensorflow) (0.2.2)\n",
            "Requirement already satisfied, skipping upgrade: six>=1.12.0 in /Users/Samuel/anaconda3/lib/python3.7/site-packages (from tensorflow) (1.12.0)\n",
            "Requirement already satisfied, skipping upgrade: tensorflow-estimator<2.2.0,>=2.1.0rc0 in /Users/Samuel/anaconda3/lib/python3.7/site-packages (from tensorflow) (2.1.0)\n",
            "Requirement already satisfied, skipping upgrade: google-auth-oauthlib<0.5,>=0.4.1 in /Users/Samuel/anaconda3/lib/python3.7/site-packages (from tensorboard<2.2.0,>=2.1.0->tensorflow) (0.4.1)\n",
            "Requirement already satisfied, skipping upgrade: requests<3,>=2.21.0 in /Users/Samuel/anaconda3/lib/python3.7/site-packages (from tensorboard<2.2.0,>=2.1.0->tensorflow) (2.22.0)\n",
            "Requirement already satisfied, skipping upgrade: markdown>=2.6.8 in /Users/Samuel/anaconda3/lib/python3.7/site-packages (from tensorboard<2.2.0,>=2.1.0->tensorflow) (3.2.1)\n",
            "Requirement already satisfied, skipping upgrade: setuptools>=41.0.0 in /Users/Samuel/anaconda3/lib/python3.7/site-packages (from tensorboard<2.2.0,>=2.1.0->tensorflow) (41.0.1)\n",
            "Requirement already satisfied, skipping upgrade: google-auth<2,>=1.6.3 in /Users/Samuel/anaconda3/lib/python3.7/site-packages (from tensorboard<2.2.0,>=2.1.0->tensorflow) (1.11.2)\n",
            "Requirement already satisfied, skipping upgrade: werkzeug>=0.11.15 in /Users/Samuel/anaconda3/lib/python3.7/site-packages (from tensorboard<2.2.0,>=2.1.0->tensorflow) (0.15.4)\n",
            "Requirement already satisfied, skipping upgrade: h5py in /Users/Samuel/anaconda3/lib/python3.7/site-packages (from keras-applications>=1.0.8->tensorflow) (2.9.0)\n",
            "Requirement already satisfied, skipping upgrade: requests-oauthlib>=0.7.0 in /Users/Samuel/anaconda3/lib/python3.7/site-packages (from google-auth-oauthlib<0.5,>=0.4.1->tensorboard<2.2.0,>=2.1.0->tensorflow) (1.3.0)\n",
            "Requirement already satisfied, skipping upgrade: certifi>=2017.4.17 in /Users/Samuel/anaconda3/lib/python3.7/site-packages (from requests<3,>=2.21.0->tensorboard<2.2.0,>=2.1.0->tensorflow) (2019.6.16)\n",
            "Requirement already satisfied, skipping upgrade: idna<2.9,>=2.5 in /Users/Samuel/anaconda3/lib/python3.7/site-packages (from requests<3,>=2.21.0->tensorboard<2.2.0,>=2.1.0->tensorflow) (2.8)\n",
            "Requirement already satisfied, skipping upgrade: chardet<3.1.0,>=3.0.2 in /Users/Samuel/anaconda3/lib/python3.7/site-packages (from requests<3,>=2.21.0->tensorboard<2.2.0,>=2.1.0->tensorflow) (3.0.4)\n",
            "Requirement already satisfied, skipping upgrade: urllib3!=1.25.0,!=1.25.1,<1.26,>=1.21.1 in /Users/Samuel/anaconda3/lib/python3.7/site-packages (from requests<3,>=2.21.0->tensorboard<2.2.0,>=2.1.0->tensorflow) (1.24.2)\n",
            "Requirement already satisfied, skipping upgrade: rsa<4.1,>=3.1.4 in /Users/Samuel/anaconda3/lib/python3.7/site-packages (from google-auth<2,>=1.6.3->tensorboard<2.2.0,>=2.1.0->tensorflow) (4.0)\n",
            "Requirement already satisfied, skipping upgrade: cachetools<5.0,>=2.0.0 in /Users/Samuel/anaconda3/lib/python3.7/site-packages (from google-auth<2,>=1.6.3->tensorboard<2.2.0,>=2.1.0->tensorflow) (4.0.0)\n",
            "Requirement already satisfied, skipping upgrade: pyasn1-modules>=0.2.1 in /Users/Samuel/anaconda3/lib/python3.7/site-packages (from google-auth<2,>=1.6.3->tensorboard<2.2.0,>=2.1.0->tensorflow) (0.2.8)\n",
            "Requirement already satisfied, skipping upgrade: oauthlib>=3.0.0 in /Users/Samuel/anaconda3/lib/python3.7/site-packages (from requests-oauthlib>=0.7.0->google-auth-oauthlib<0.5,>=0.4.1->tensorboard<2.2.0,>=2.1.0->tensorflow) (3.1.0)\n",
            "Requirement already satisfied, skipping upgrade: pyasn1>=0.1.3 in /Users/Samuel/anaconda3/lib/python3.7/site-packages (from rsa<4.1,>=3.1.4->google-auth<2,>=1.6.3->tensorboard<2.2.0,>=2.1.0->tensorflow) (0.4.8)\n",
            "Requirement already satisfied: keras in /Users/Samuel/anaconda3/lib/python3.7/site-packages (2.3.1)\n",
            "Requirement already satisfied: scipy>=0.14 in /Users/Samuel/anaconda3/lib/python3.7/site-packages (from keras) (1.4.1)\n",
            "Requirement already satisfied: pyyaml in /Users/Samuel/anaconda3/lib/python3.7/site-packages (from keras) (5.1.1)\n",
            "Requirement already satisfied: keras-preprocessing>=1.0.5 in /Users/Samuel/anaconda3/lib/python3.7/site-packages (from keras) (1.1.0)\n",
            "Requirement already satisfied: keras-applications>=1.0.6 in /Users/Samuel/anaconda3/lib/python3.7/site-packages (from keras) (1.0.8)\n",
            "Requirement already satisfied: six>=1.9.0 in /Users/Samuel/anaconda3/lib/python3.7/site-packages (from keras) (1.12.0)\n",
            "Requirement already satisfied: numpy>=1.9.1 in /Users/Samuel/anaconda3/lib/python3.7/site-packages (from keras) (1.16.4)\n",
            "Requirement already satisfied: h5py in /Users/Samuel/anaconda3/lib/python3.7/site-packages (from keras) (2.9.0)\n",
            "Train on 1149 samples, validate on 288 samples\n",
            "Epoch 1/20\n",
            "1149/1149 [==============================] - 0s 205us/step - loss: 2.2834 - accuracy: 0.6719 - val_loss: 0.1497 - val_accuracy: 0.9410\b\b\b\b\b\b\b\b\b\b\b\b\b\b\b\b\b\b\b\b\b\b\b\b\b\b\b\b\b\b\b\b\b\b\b\b\b\b\n",
            "Epoch 2/20\n",
            "1149/1149 [==============================] - 0s 51us/step - loss: 0.1656 - accuracy: 0.9495 - val_loss: 0.1108 - val_accuracy: 0.9618\b\b\b\b\b\b\b\b\b\b\b\b\b\b\b\b\b\b\b\b\b\b\b\b\b\b\b\b\b\b\b\b\b\b\b\b\b\b\b\n",
            "Epoch 3/20\n",
            "1149/1149 [==============================] - 0s 47us/step - loss: 0.0950 - accuracy: 0.9713 - val_loss: 0.0784 - val_accuracy: 0.9757\b\b\b\b\b\b\b\b\b\b\b\b\b\b\b\b\b\b\b\b\b\b\b\b\b\b\b\b\b\b\b\b\b\b\b\b\b\b\b\n",
            "Epoch 4/20\n",
            "1149/1149 [==============================] - 0s 45us/step - loss: 0.0798 - accuracy: 0.9791 - val_loss: 0.0932 - val_accuracy: 0.9653\b\b\b\b\b\b\b\b\b\b\b\b\b\b\b\b\b\b\b\b\b\b\b\b\b\b\b\b\b\b\b\b\b\b\b\b\b\b\b\n",
            "Epoch 5/20\n",
            "1149/1149 [==============================] - 0s 49us/step - loss: 0.0603 - accuracy: 0.9826 - val_loss: 0.0943 - val_accuracy: 0.9688\b\b\b\b\b\b\b\b\b\b\b\b\b\b\b\b\b\b\b\b\b\b\b\b\b\b\b\b\b\b\b\b\b\b\b\b\b\b\b\n",
            "Epoch 6/20\n",
            "1149/1149 [==============================] - 0s 50us/step - loss: 0.0422 - accuracy: 0.9904 - val_loss: 0.0510 - val_accuracy: 0.9896\b\b\b\b\b\b\b\b\b\b\b\b\b\b\b\b\b\b\b\b\b\b\b\b\b\b\b\b\b\b\b\b\b\b\b\b\b\b\b\n",
            "Epoch 7/20\n",
            "1149/1149 [==============================] - 0s 50us/step - loss: 0.0362 - accuracy: 0.9887 - val_loss: 0.0670 - val_accuracy: 0.9861\b\b\b\b\b\b\b\b\b\b\b\b\b\b\b\b\b\b\b\b\b\b\b\b\b\b\b\b\b\b\b\b\b\b\b\b\b\b\b\n",
            "Epoch 8/20\n",
            "1149/1149 [==============================] - 0s 50us/step - loss: 0.0279 - accuracy: 0.9965 - val_loss: 0.0697 - val_accuracy: 0.9826\b\b\b\b\b\b\b\b\b\b\b\b\b\b\b\b\b\b\b\b\b\b\b\b\b\b\b\b\b\b\b\b\b\b\b\b\b\b\b\n",
            "Epoch 9/20\n",
            "1149/1149 [==============================] - 0s 44us/step - loss: 0.0256 - accuracy: 0.9939 - val_loss: 0.0720 - val_accuracy: 0.9792\b\b\b\b\b\b\b\b\b\b\b\b\b\b\b\b\b\b\b\b\b\b\b\b\b\b\b\b\b\b\b\b\b\b\b\b\b\b\b\n",
            "Epoch 10/20\n",
            "1149/1149 [==============================] - 0s 43us/step - loss: 0.0228 - accuracy: 0.9948 - val_loss: 0.0590 - val_accuracy: 0.9896\b\b\b\b\b\b\b\b\b\b\b\b\b\b\b\b\b\b\b\b\b\b\b\b\b\b\b\b\b\b\b\b\b\b\b\b\b\b\b\n",
            "Epoch 11/20\n",
            "1149/1149 [==============================] - 0s 51us/step - loss: 0.0217 - accuracy: 0.9948 - val_loss: 0.0536 - val_accuracy: 0.9931\b\b\b\b\b\b\b\b\b\b\b\b\b\b\b\b\b\b\b\b\b\b\b\b\b\b\b\b\b\b\b\b\b\b\b\b\b\b\b\n",
            "Epoch 12/20\n",
            "1149/1149 [==============================] - 0s 47us/step - loss: 0.0153 - accuracy: 0.9983 - val_loss: 0.0583 - val_accuracy: 0.9861\b\b\b\b\b\b\b\b\b\b\b\b\b\b\b\b\b\b\b\b\b\b\b\b\b\b\b\b\b\b\b\b\b\b\b\b\b\b\b\n",
            "Epoch 13/20\n",
            "1149/1149 [==============================] - 0s 46us/step - loss: 0.0140 - accuracy: 0.9974 - val_loss: 0.0482 - val_accuracy: 0.9931\b\b\b\b\b\b\b\b\b\b\b\b\b\b\b\b\b\b\b\b\b\b\b\b\b\b\b\b\b\b\b\b\b\b\b\b\b\b\b\n",
            "Epoch 14/20\n",
            "1149/1149 [==============================] - 0s 46us/step - loss: 0.0105 - accuracy: 0.9983 - val_loss: 0.0564 - val_accuracy: 0.9896\b\b\b\b\b\b\b\b\b\b\b\b\b\b\b\b\b\b\b\b\b\b\b\b\b\b\b\b\b\b\b\b\b\b\b\b\b\b\b\n",
            "Epoch 15/20\n",
            "1149/1149 [==============================] - 0s 61us/step - loss: 0.0119 - accuracy: 0.9974 - val_loss: 0.0635 - val_accuracy: 0.9861\b\b\b\b\b\b\b\b\b\b\b\b\b\b\b\b\b\b\b\b\b\b\b\b\b\b\b\b\b\b\b\b\b\b\b\b\b\b\b\n",
            "Epoch 16/20\n",
            "1149/1149 [==============================] - 0s 47us/step - loss: 0.0140 - accuracy: 0.9983 - val_loss: 0.0595 - val_accuracy: 0.9896\b\b\b\b\b\b\b\b\b\b\b\b\b\b\b\b\b\b\b\b\b\b\b\b\b\b\b\b\b\b\b\b\b\b\b\b\b\b\b\n",
            "Epoch 17/20\n",
            "1149/1149 [==============================] - 0s 47us/step - loss: 0.0076 - accuracy: 0.9991 - val_loss: 0.0517 - val_accuracy: 0.9861\b\b\b\b\b\b\b\b\b\b\b\b\b\b\b\b\b\b\b\b\b\b\b\b\b\b\b\b\b\b\b\b\b\b\b\b\b\b\b\n",
            "Epoch 18/20\n",
            "1149/1149 [==============================] - 0s 52us/step - loss: 0.0112 - accuracy: 0.9983 - val_loss: 0.0534 - val_accuracy: 0.9861\b\b\b\b\b\b\b\b\b\b\b\b\b\b\b\b\b\b\b\b\b\b\b\b\b\b\b\b\b\b\b\b\b\b\b\b\b\b\b\n",
            "Epoch 19/20\n",
            "1149/1149 [==============================] - 0s 47us/step - loss: 0.0136 - accuracy: 0.9974 - val_loss: 0.0612 - val_accuracy: 0.9861\b\b\b\b\b\b\b\b\b\b\b\b\b\b\b\b\b\b\b\b\b\b\b\b\b\b\b\b\b\b\b\b\b\b\b\b\b\b\b\n",
            "Epoch 20/20\n",
            "1149/1149 [==============================] - 0s 44us/step - loss: 0.0092 - accuracy: 0.9991 - val_loss: 0.0496 - val_accuracy: 0.9861\b\b\b\b\b\b\b\b\b\b\b\b\b\b\b\b\b\b\b\b\b\b\b\b\b\b\b\b\b\b\b\b\b\b\b\b\b\b\b\n"
          ]
        },
        {
          "output_type": "stream",
          "name": "stderr",
          "text": [
            "Using TensorFlow backend.\n"
          ]
        },
        {
          "output_type": "display_data",
          "data": {
            "text/plain": [
              "<Figure size 360x360 with 9 Axes>"
            ],
            "image/png": "[encoded data removed]"
          },
          "metadata": {
            "needs_background": "light"
          }
        },
        {
          "output_type": "display_data",
          "data": {
            "text/plain": [
              "<Figure size 360x360 with 6 Axes>"
            ],
            "image/png": "[encoded data removed]"
          },
          "metadata": {
            "needs_background": "light"
          }
        }
      ],
      "execution_count": 1,
      "metadata": {
        "collapsed": false,
        "jupyter": {
          "source_hidden": false,
          "outputs_hidden": false
        },
        "nteract": {
          "transient": {
            "deleting": false
          }
        },
        "execution": {
          "iopub.status.busy": "2020-03-10T10:17:58.349Z",
          "iopub.execute_input": "2020-03-10T10:17:58.361Z",
          "iopub.status.idle": "2020-03-10T10:18:16.589Z",
          "shell.execute_reply": "2020-03-10T10:18:16.599Z"
        }
      }
    },
    {
      "cell_type": "markdown",
      "source": [
        "And this is it! On these images, we can see: \n",
        "* the **input** (each vector of 64 pixels representing a handwritten number), \n",
        "* the **prediction** of our deep learing algorithm (Pred: y'), \n",
        "* and the **real value** of the number (True: y). \n",
        "\n",
        "In this example, the algorithm successfully predicted the values for 9 variables, and failed to assert the correct number to 9 variables. The algorithm's performance would be better if we could train it with more variables (more images). "
      ],
      "metadata": {
        "nteract": {
          "transient": {
            "deleting": false
          }
        }
      }
    },
    {
      "cell_type": "markdown",
      "source": [],
      "metadata": {
        "nteract": {
          "transient": {
            "deleting": false
          }
        }
      }
    }
  ],
  "metadata": {
    "kernel_info": {
      "name": "python3"
    },
    "language_info": {
      "name": "python",
      "version": "3.7.3",
      "mimetype": "text/x-python",
      "codemirror_mode": {
        "name": "ipython",
        "version": 3
      },
      "pygments_lexer": "ipython3",
      "nbconvert_exporter": "python",
      "file_extension": ".py"
    },
    "kernelspec": {
      "argv": [
        "/Users/Samuel/anaconda3/bin/python",
        "-m",
        "ipykernel_launcher",
        "-f",
        "{connection_file}"
      ],
      "display_name": "Python 3",
      "language": "python",
      "name": "python3"
    },
    "nteract": {
      "version": "0.22.0"
    }
  },
  "nbformat": 4,
  "nbformat_minor": 0
}