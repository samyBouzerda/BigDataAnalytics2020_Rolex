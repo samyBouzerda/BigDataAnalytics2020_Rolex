{
 "cells": [
  {
   "cell_type": "markdown",
   "metadata": {},
   "source": [
    "# Big Scale Analytics - Project 1\n",
    "**_Group 9 - Alexandre Lang, Samy Bouzerda, Samuel Lew, Alix Muller_**\n",
    "> git: https://github.com/samyBouzerda/BigDataAnalytics2020_Rolex\n",
    "\n",
    "The purpose of this group project is on one hand show how to use of **Custom Vision***, a cognitive service furnished by **Microsoft Azure***. On the other hand, it will provide a long term use tutorial, easy-to-use whatever the level of the user is."
   ]
  },
  {
   "cell_type": "markdown",
   "metadata": {},
   "source": [
    "## I. Introduction"
   ]
  },
  {
   "cell_type": "markdown",
   "metadata": {},
   "source": [
    "#### Microsoft Azure*\n",
    "Microsoft Azure is an _\"ever-expanding set of cloud services to help organizations meet their business challenges\"_. It provides different tools or solutions such as IaaS, PaaS and Saas usable for analytics, virtual computing, storage, networking, and more.\n",
    "\n",
    "https://azure.microsoft.com/en-us/overview/what-is-azure/ \n",
    "\n",
    "https://ccbtechnology.com/what-microsoft-azure-is-and-why-it-matters/\n"
   ]
  },
  {
   "cell_type": "markdown",
   "metadata": {},
   "source": [
    "#### Custom Vision*\n",
    "Custom Vision is typically a cognitive service offered from Microsoft Azure. More specifically, it is an _\"image classifier, which is an AI service that applies labels (which represent classes) to images, according to their visual characteristics\"_. So, Custom Vision will use a machine learning algorithm, such as classification, in order to recognize chosen features in provided images. The user applies oneself labels on several images, permitting the AI to train its data, permitting the user to finally test its application. \n",
    "\n",
    "This notebook will show step by step how to use Custom Vision efficiently."
   ]
  },
  {
   "cell_type": "markdown",
   "metadata": {},
   "source": [
    "## II. Tutorial\n",
    "This notebook will use Custom Vision with a chosen subject: Shoes. The algorithm wil be trained to finally be able to recognize different type of shoes, from tongs to high heels and even to sneakers."
   ]
  },
  {
   "cell_type": "markdown",
   "metadata": {},
   "source": [
    "### 1. _Image Classification_"
   ]
  },
  {
   "cell_type": "markdown",
   "metadata": {},
   "source": [
    "### 2. _Description of the service_"
   ]
  },
  {
   "cell_type": "markdown",
   "metadata": {},
   "source": [
    "### 3. _Project creation_"
   ]
  },
  {
   "cell_type": "markdown",
   "metadata": {},
   "source": [
    "### 4. _Model Set up_"
   ]
  },
  {
   "cell_type": "markdown",
   "metadata": {},
   "source": [
    "### 5. _Model Training and Testing_"
   ]
  },
  {
   "cell_type": "markdown",
   "metadata": {},
   "source": [
    "### 6. _Model prediction call over HTTP_"
   ]
  },
  {
   "cell_type": "markdown",
   "metadata": {},
   "source": [
    "## IV. Summary and conclusion"
   ]
  },
  {
   "cell_type": "code",
   "execution_count": null,
   "metadata": {},
   "outputs": [],
   "source": []
  },
  {
   "cell_type": "markdown",
   "metadata": {},
   "source": []
  }
 ],
 "metadata": {
  "kernelspec": {
   "display_name": "Python 3",
   "language": "python",
   "name": "python3"
  },
  "language_info": {
   "codemirror_mode": {
    "name": "ipython",
    "version": 3
   },
   "file_extension": ".py",
   "mimetype": "text/x-python",
   "name": "python",
   "nbconvert_exporter": "python",
   "pygments_lexer": "ipython3",
   "version": "3.7.3"
  }
 },
 "nbformat": 4,
 "nbformat_minor": 4
}
